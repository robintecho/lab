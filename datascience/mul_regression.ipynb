{
  "nbformat": 4,
  "nbformat_minor": 0,
  "metadata": {
    "colab": {
      "name": "mul regression.ipynb",
      "provenance": []
    },
    "kernelspec": {
      "name": "python3",
      "display_name": "Python 3"
    },
    "language_info": {
      "name": "python"
    }
  },
  "cells": [
    {
      "cell_type": "code",
      "execution_count": 26,
      "metadata": {
        "id": "JVhZXTXJmtHn"
      },
      "outputs": [],
      "source": [
        "import pandas as pd\n",
        "import numpy as np\n",
        "import seaborn as sns\n",
        "from sklearn.model_selection import train_test_split\n",
        "import matplotlib.pyplot as plt"
      ]
    },
    {
      "cell_type": "code",
      "source": [
        "df=pd.read_csv('/content/Advertising.csv')\n",
        "df\n",
        "df.head()"
      ],
      "metadata": {
        "colab": {
          "base_uri": "https://localhost:8080/",
          "height": 206
        },
        "id": "lGP1bqzemxT7",
        "outputId": "cb129d4e-e705-457a-cbd4-b11bbd2a8f12"
      },
      "execution_count": 27,
      "outputs": [
        {
          "output_type": "execute_result",
          "data": {
            "text/plain": [
              "   Unnamed: 0     TV  Radio  Newspaper  Sales\n",
              "0           1  230.1   37.8       69.2   22.1\n",
              "1           2   44.5   39.3       45.1   10.4\n",
              "2           3   17.2   45.9       69.3    9.3\n",
              "3           4  151.5   41.3       58.5   18.5\n",
              "4           5  180.8   10.8       58.4   12.9"
            ],
            "text/html": [
              "\n",
              "  <div id=\"df-9a86aed4-09e0-43a2-8406-21e82e183489\">\n",
              "    <div class=\"colab-df-container\">\n",
              "      <div>\n",
              "<style scoped>\n",
              "    .dataframe tbody tr th:only-of-type {\n",
              "        vertical-align: middle;\n",
              "    }\n",
              "\n",
              "    .dataframe tbody tr th {\n",
              "        vertical-align: top;\n",
              "    }\n",
              "\n",
              "    .dataframe thead th {\n",
              "        text-align: right;\n",
              "    }\n",
              "</style>\n",
              "<table border=\"1\" class=\"dataframe\">\n",
              "  <thead>\n",
              "    <tr style=\"text-align: right;\">\n",
              "      <th></th>\n",
              "      <th>Unnamed: 0</th>\n",
              "      <th>TV</th>\n",
              "      <th>Radio</th>\n",
              "      <th>Newspaper</th>\n",
              "      <th>Sales</th>\n",
              "    </tr>\n",
              "  </thead>\n",
              "  <tbody>\n",
              "    <tr>\n",
              "      <th>0</th>\n",
              "      <td>1</td>\n",
              "      <td>230.1</td>\n",
              "      <td>37.8</td>\n",
              "      <td>69.2</td>\n",
              "      <td>22.1</td>\n",
              "    </tr>\n",
              "    <tr>\n",
              "      <th>1</th>\n",
              "      <td>2</td>\n",
              "      <td>44.5</td>\n",
              "      <td>39.3</td>\n",
              "      <td>45.1</td>\n",
              "      <td>10.4</td>\n",
              "    </tr>\n",
              "    <tr>\n",
              "      <th>2</th>\n",
              "      <td>3</td>\n",
              "      <td>17.2</td>\n",
              "      <td>45.9</td>\n",
              "      <td>69.3</td>\n",
              "      <td>9.3</td>\n",
              "    </tr>\n",
              "    <tr>\n",
              "      <th>3</th>\n",
              "      <td>4</td>\n",
              "      <td>151.5</td>\n",
              "      <td>41.3</td>\n",
              "      <td>58.5</td>\n",
              "      <td>18.5</td>\n",
              "    </tr>\n",
              "    <tr>\n",
              "      <th>4</th>\n",
              "      <td>5</td>\n",
              "      <td>180.8</td>\n",
              "      <td>10.8</td>\n",
              "      <td>58.4</td>\n",
              "      <td>12.9</td>\n",
              "    </tr>\n",
              "  </tbody>\n",
              "</table>\n",
              "</div>\n",
              "      <button class=\"colab-df-convert\" onclick=\"convertToInteractive('df-9a86aed4-09e0-43a2-8406-21e82e183489')\"\n",
              "              title=\"Convert this dataframe to an interactive table.\"\n",
              "              style=\"display:none;\">\n",
              "        \n",
              "  <svg xmlns=\"http://www.w3.org/2000/svg\" height=\"24px\"viewBox=\"0 0 24 24\"\n",
              "       width=\"24px\">\n",
              "    <path d=\"M0 0h24v24H0V0z\" fill=\"none\"/>\n",
              "    <path d=\"M18.56 5.44l.94 2.06.94-2.06 2.06-.94-2.06-.94-.94-2.06-.94 2.06-2.06.94zm-11 1L8.5 8.5l.94-2.06 2.06-.94-2.06-.94L8.5 2.5l-.94 2.06-2.06.94zm10 10l.94 2.06.94-2.06 2.06-.94-2.06-.94-.94-2.06-.94 2.06-2.06.94z\"/><path d=\"M17.41 7.96l-1.37-1.37c-.4-.4-.92-.59-1.43-.59-.52 0-1.04.2-1.43.59L10.3 9.45l-7.72 7.72c-.78.78-.78 2.05 0 2.83L4 21.41c.39.39.9.59 1.41.59.51 0 1.02-.2 1.41-.59l7.78-7.78 2.81-2.81c.8-.78.8-2.07 0-2.86zM5.41 20L4 18.59l7.72-7.72 1.47 1.35L5.41 20z\"/>\n",
              "  </svg>\n",
              "      </button>\n",
              "      \n",
              "  <style>\n",
              "    .colab-df-container {\n",
              "      display:flex;\n",
              "      flex-wrap:wrap;\n",
              "      gap: 12px;\n",
              "    }\n",
              "\n",
              "    .colab-df-convert {\n",
              "      background-color: #E8F0FE;\n",
              "      border: none;\n",
              "      border-radius: 50%;\n",
              "      cursor: pointer;\n",
              "      display: none;\n",
              "      fill: #1967D2;\n",
              "      height: 32px;\n",
              "      padding: 0 0 0 0;\n",
              "      width: 32px;\n",
              "    }\n",
              "\n",
              "    .colab-df-convert:hover {\n",
              "      background-color: #E2EBFA;\n",
              "      box-shadow: 0px 1px 2px rgba(60, 64, 67, 0.3), 0px 1px 3px 1px rgba(60, 64, 67, 0.15);\n",
              "      fill: #174EA6;\n",
              "    }\n",
              "\n",
              "    [theme=dark] .colab-df-convert {\n",
              "      background-color: #3B4455;\n",
              "      fill: #D2E3FC;\n",
              "    }\n",
              "\n",
              "    [theme=dark] .colab-df-convert:hover {\n",
              "      background-color: #434B5C;\n",
              "      box-shadow: 0px 1px 3px 1px rgba(0, 0, 0, 0.15);\n",
              "      filter: drop-shadow(0px 1px 2px rgba(0, 0, 0, 0.3));\n",
              "      fill: #FFFFFF;\n",
              "    }\n",
              "  </style>\n",
              "\n",
              "      <script>\n",
              "        const buttonEl =\n",
              "          document.querySelector('#df-9a86aed4-09e0-43a2-8406-21e82e183489 button.colab-df-convert');\n",
              "        buttonEl.style.display =\n",
              "          google.colab.kernel.accessAllowed ? 'block' : 'none';\n",
              "\n",
              "        async function convertToInteractive(key) {\n",
              "          const element = document.querySelector('#df-9a86aed4-09e0-43a2-8406-21e82e183489');\n",
              "          const dataTable =\n",
              "            await google.colab.kernel.invokeFunction('convertToInteractive',\n",
              "                                                     [key], {});\n",
              "          if (!dataTable) return;\n",
              "\n",
              "          const docLinkHtml = 'Like what you see? Visit the ' +\n",
              "            '<a target=\"_blank\" href=https://colab.research.google.com/notebooks/data_table.ipynb>data table notebook</a>'\n",
              "            + ' to learn more about interactive tables.';\n",
              "          element.innerHTML = '';\n",
              "          dataTable['output_type'] = 'display_data';\n",
              "          await google.colab.output.renderOutput(dataTable, element);\n",
              "          const docLink = document.createElement('div');\n",
              "          docLink.innerHTML = docLinkHtml;\n",
              "          element.appendChild(docLink);\n",
              "        }\n",
              "      </script>\n",
              "    </div>\n",
              "  </div>\n",
              "  "
            ]
          },
          "metadata": {},
          "execution_count": 27
        }
      ]
    },
    {
      "cell_type": "code",
      "source": [
        "x=df.drop(['Sales'],axis=1).values"
      ],
      "metadata": {
        "id": "gCHb6VmfmxWz"
      },
      "execution_count": 28,
      "outputs": []
    },
    {
      "cell_type": "code",
      "source": [
        "y=df['Sales'].values"
      ],
      "metadata": {
        "id": "0OdBn0f2mxZZ"
      },
      "execution_count": 29,
      "outputs": []
    },
    {
      "cell_type": "code",
      "source": [
        "print(x)"
      ],
      "metadata": {
        "colab": {
          "base_uri": "https://localhost:8080/"
        },
        "id": "ZVn9gAOEsW6b",
        "outputId": "5a09e9ab-a93d-4e8a-cefc-c91236d7f8a4"
      },
      "execution_count": 30,
      "outputs": [
        {
          "output_type": "stream",
          "name": "stdout",
          "text": [
            "[[  1.  230.1  37.8  69.2]\n",
            " [  2.   44.5  39.3  45.1]\n",
            " [  3.   17.2  45.9  69.3]\n",
            " [  4.  151.5  41.3  58.5]\n",
            " [  5.  180.8  10.8  58.4]\n",
            " [  6.    8.7  48.9  75. ]\n",
            " [  7.   57.5  32.8  23.5]\n",
            " [  8.  120.2  19.6  11.6]\n",
            " [  9.    8.6   2.1   1. ]\n",
            " [ 10.  199.8   2.6  21.2]\n",
            " [ 11.   66.1   5.8  24.2]\n",
            " [ 12.  214.7  24.    4. ]\n",
            " [ 13.   23.8  35.1  65.9]\n",
            " [ 14.   97.5   7.6   7.2]\n",
            " [ 15.  204.1  32.9  46. ]\n",
            " [ 16.  195.4  47.7  52.9]\n",
            " [ 17.   67.8  36.6 114. ]\n",
            " [ 18.  281.4  39.6  55.8]\n",
            " [ 19.   69.2  20.5  18.3]\n",
            " [ 20.  147.3  23.9  19.1]\n",
            " [ 21.  218.4  27.7  53.4]\n",
            " [ 22.  237.4   5.1  23.5]\n",
            " [ 23.   13.2  15.9  49.6]\n",
            " [ 24.  228.3  16.9  26.2]\n",
            " [ 25.   62.3  12.6  18.3]\n",
            " [ 26.  262.9   3.5  19.5]\n",
            " [ 27.  142.9  29.3  12.6]\n",
            " [ 28.  240.1  16.7  22.9]\n",
            " [ 29.  248.8  27.1  22.9]\n",
            " [ 30.   70.6  16.   40.8]\n",
            " [ 31.  292.9  28.3  43.2]\n",
            " [ 32.  112.9  17.4  38.6]\n",
            " [ 33.   97.2   1.5  30. ]\n",
            " [ 34.  265.6  20.    0.3]\n",
            " [ 35.   95.7   1.4   7.4]\n",
            " [ 36.  290.7   4.1   8.5]\n",
            " [ 37.  266.9  43.8   5. ]\n",
            " [ 38.   74.7  49.4  45.7]\n",
            " [ 39.   43.1  26.7  35.1]\n",
            " [ 40.  228.   37.7  32. ]\n",
            " [ 41.  202.5  22.3  31.6]\n",
            " [ 42.  177.   33.4  38.7]\n",
            " [ 43.  293.6  27.7   1.8]\n",
            " [ 44.  206.9   8.4  26.4]\n",
            " [ 45.   25.1  25.7  43.3]\n",
            " [ 46.  175.1  22.5  31.5]\n",
            " [ 47.   89.7   9.9  35.7]\n",
            " [ 48.  239.9  41.5  18.5]\n",
            " [ 49.  227.2  15.8  49.9]\n",
            " [ 50.   66.9  11.7  36.8]\n",
            " [ 51.  199.8   3.1  34.6]\n",
            " [ 52.  100.4   9.6   3.6]\n",
            " [ 53.  216.4  41.7  39.6]\n",
            " [ 54.  182.6  46.2  58.7]\n",
            " [ 55.  262.7  28.8  15.9]\n",
            " [ 56.  198.9  49.4  60. ]\n",
            " [ 57.    7.3  28.1  41.4]\n",
            " [ 58.  136.2  19.2  16.6]\n",
            " [ 59.  210.8  49.6  37.7]\n",
            " [ 60.  210.7  29.5   9.3]\n",
            " [ 61.   53.5   2.   21.4]\n",
            " [ 62.  261.3  42.7  54.7]\n",
            " [ 63.  239.3  15.5  27.3]\n",
            " [ 64.  102.7  29.6   8.4]\n",
            " [ 65.  131.1  42.8  28.9]\n",
            " [ 66.   69.    9.3   0.9]\n",
            " [ 67.   31.5  24.6   2.2]\n",
            " [ 68.  139.3  14.5  10.2]\n",
            " [ 69.  237.4  27.5  11. ]\n",
            " [ 70.  216.8  43.9  27.2]\n",
            " [ 71.  199.1  30.6  38.7]\n",
            " [ 72.  109.8  14.3  31.7]\n",
            " [ 73.   26.8  33.   19.3]\n",
            " [ 74.  129.4   5.7  31.3]\n",
            " [ 75.  213.4  24.6  13.1]\n",
            " [ 76.   16.9  43.7  89.4]\n",
            " [ 77.   27.5   1.6  20.7]\n",
            " [ 78.  120.5  28.5  14.2]\n",
            " [ 79.    5.4  29.9   9.4]\n",
            " [ 80.  116.    7.7  23.1]\n",
            " [ 81.   76.4  26.7  22.3]\n",
            " [ 82.  239.8   4.1  36.9]\n",
            " [ 83.   75.3  20.3  32.5]\n",
            " [ 84.   68.4  44.5  35.6]\n",
            " [ 85.  213.5  43.   33.8]\n",
            " [ 86.  193.2  18.4  65.7]\n",
            " [ 87.   76.3  27.5  16. ]\n",
            " [ 88.  110.7  40.6  63.2]\n",
            " [ 89.   88.3  25.5  73.4]\n",
            " [ 90.  109.8  47.8  51.4]\n",
            " [ 91.  134.3   4.9   9.3]\n",
            " [ 92.   28.6   1.5  33. ]\n",
            " [ 93.  217.7  33.5  59. ]\n",
            " [ 94.  250.9  36.5  72.3]\n",
            " [ 95.  107.4  14.   10.9]\n",
            " [ 96.  163.3  31.6  52.9]\n",
            " [ 97.  197.6   3.5   5.9]\n",
            " [ 98.  184.9  21.   22. ]\n",
            " [ 99.  289.7  42.3  51.2]\n",
            " [100.  135.2  41.7  45.9]\n",
            " [101.  222.4   4.3  49.8]\n",
            " [102.  296.4  36.3 100.9]\n",
            " [103.  280.2  10.1  21.4]\n",
            " [104.  187.9  17.2  17.9]\n",
            " [105.  238.2  34.3   5.3]\n",
            " [106.  137.9  46.4  59. ]\n",
            " [107.   25.   11.   29.7]\n",
            " [108.   90.4   0.3  23.2]\n",
            " [109.   13.1   0.4  25.6]\n",
            " [110.  255.4  26.9   5.5]\n",
            " [111.  225.8   8.2  56.5]\n",
            " [112.  241.7  38.   23.2]\n",
            " [113.  175.7  15.4   2.4]\n",
            " [114.  209.6  20.6  10.7]\n",
            " [115.   78.2  46.8  34.5]\n",
            " [116.   75.1  35.   52.7]\n",
            " [117.  139.2  14.3  25.6]\n",
            " [118.   76.4   0.8  14.8]\n",
            " [119.  125.7  36.9  79.2]\n",
            " [120.   19.4  16.   22.3]\n",
            " [121.  141.3  26.8  46.2]\n",
            " [122.   18.8  21.7  50.4]\n",
            " [123.  224.    2.4  15.6]\n",
            " [124.  123.1  34.6  12.4]\n",
            " [125.  229.5  32.3  74.2]\n",
            " [126.   87.2  11.8  25.9]\n",
            " [127.    7.8  38.9  50.6]\n",
            " [128.   80.2   0.    9.2]\n",
            " [129.  220.3  49.    3.2]\n",
            " [130.   59.6  12.   43.1]\n",
            " [131.    0.7  39.6   8.7]\n",
            " [132.  265.2   2.9  43. ]\n",
            " [133.    8.4  27.2   2.1]\n",
            " [134.  219.8  33.5  45.1]\n",
            " [135.   36.9  38.6  65.6]\n",
            " [136.   48.3  47.    8.5]\n",
            " [137.   25.6  39.    9.3]\n",
            " [138.  273.7  28.9  59.7]\n",
            " [139.   43.   25.9  20.5]\n",
            " [140.  184.9  43.9   1.7]\n",
            " [141.   73.4  17.   12.9]\n",
            " [142.  193.7  35.4  75.6]\n",
            " [143.  220.5  33.2  37.9]\n",
            " [144.  104.6   5.7  34.4]\n",
            " [145.   96.2  14.8  38.9]\n",
            " [146.  140.3   1.9   9. ]\n",
            " [147.  240.1   7.3   8.7]\n",
            " [148.  243.2  49.   44.3]\n",
            " [149.   38.   40.3  11.9]\n",
            " [150.   44.7  25.8  20.6]\n",
            " [151.  280.7  13.9  37. ]\n",
            " [152.  121.    8.4  48.7]\n",
            " [153.  197.6  23.3  14.2]\n",
            " [154.  171.3  39.7  37.7]\n",
            " [155.  187.8  21.1   9.5]\n",
            " [156.    4.1  11.6   5.7]\n",
            " [157.   93.9  43.5  50.5]\n",
            " [158.  149.8   1.3  24.3]\n",
            " [159.   11.7  36.9  45.2]\n",
            " [160.  131.7  18.4  34.6]\n",
            " [161.  172.5  18.1  30.7]\n",
            " [162.   85.7  35.8  49.3]\n",
            " [163.  188.4  18.1  25.6]\n",
            " [164.  163.5  36.8   7.4]\n",
            " [165.  117.2  14.7   5.4]\n",
            " [166.  234.5   3.4  84.8]\n",
            " [167.   17.9  37.6  21.6]\n",
            " [168.  206.8   5.2  19.4]\n",
            " [169.  215.4  23.6  57.6]\n",
            " [170.  284.3  10.6   6.4]\n",
            " [171.   50.   11.6  18.4]\n",
            " [172.  164.5  20.9  47.4]\n",
            " [173.   19.6  20.1  17. ]\n",
            " [174.  168.4   7.1  12.8]\n",
            " [175.  222.4   3.4  13.1]\n",
            " [176.  276.9  48.9  41.8]\n",
            " [177.  248.4  30.2  20.3]\n",
            " [178.  170.2   7.8  35.2]\n",
            " [179.  276.7   2.3  23.7]\n",
            " [180.  165.6  10.   17.6]\n",
            " [181.  156.6   2.6   8.3]\n",
            " [182.  218.5   5.4  27.4]\n",
            " [183.   56.2   5.7  29.7]\n",
            " [184.  287.6  43.   71.8]\n",
            " [185.  253.8  21.3  30. ]\n",
            " [186.  205.   45.1  19.6]\n",
            " [187.  139.5   2.1  26.6]\n",
            " [188.  191.1  28.7  18.2]\n",
            " [189.  286.   13.9   3.7]\n",
            " [190.   18.7  12.1  23.4]\n",
            " [191.   39.5  41.1   5.8]\n",
            " [192.   75.5  10.8   6. ]\n",
            " [193.   17.2   4.1  31.6]\n",
            " [194.  166.8  42.    3.6]\n",
            " [195.  149.7  35.6   6. ]\n",
            " [196.   38.2   3.7  13.8]\n",
            " [197.   94.2   4.9   8.1]\n",
            " [198.  177.    9.3   6.4]\n",
            " [199.  283.6  42.   66.2]\n",
            " [200.  232.1   8.6   8.7]]\n"
          ]
        }
      ]
    },
    {
      "cell_type": "code",
      "source": [
        "print(y)"
      ],
      "metadata": {
        "colab": {
          "base_uri": "https://localhost:8080/"
        },
        "id": "Vk3u7exusYv7",
        "outputId": "e7ad7bc7-f75d-448d-e1d9-e693856fbd40"
      },
      "execution_count": 31,
      "outputs": [
        {
          "output_type": "stream",
          "name": "stdout",
          "text": [
            "[22.1 10.4  9.3 18.5 12.9  7.2 11.8 13.2  4.8 10.6  8.6 17.4  9.2  9.7\n",
            " 19.  22.4 12.5 24.4 11.3 14.6 18.  12.5  5.6 15.5  9.7 12.  15.  15.9\n",
            " 18.9 10.5 21.4 11.9  9.6 17.4  9.5 12.8 25.4 14.7 10.1 21.5 16.6 17.1\n",
            " 20.7 12.9  8.5 14.9 10.6 23.2 14.8  9.7 11.4 10.7 22.6 21.2 20.2 23.7\n",
            "  5.5 13.2 23.8 18.4  8.1 24.2 15.7 14.  18.   9.3  9.5 13.4 18.9 22.3\n",
            " 18.3 12.4  8.8 11.  17.   8.7  6.9 14.2  5.3 11.  11.8 12.3 11.3 13.6\n",
            " 21.7 15.2 12.  16.  12.9 16.7 11.2  7.3 19.4 22.2 11.5 16.9 11.7 15.5\n",
            " 25.4 17.2 11.7 23.8 14.8 14.7 20.7 19.2  7.2  8.7  5.3 19.8 13.4 21.8\n",
            " 14.1 15.9 14.6 12.6 12.2  9.4 15.9  6.6 15.5  7.  11.6 15.2 19.7 10.6\n",
            "  6.6  8.8 24.7  9.7  1.6 12.7  5.7 19.6 10.8 11.6  9.5 20.8  9.6 20.7\n",
            " 10.9 19.2 20.1 10.4 11.4 10.3 13.2 25.4 10.9 10.1 16.1 11.6 16.6 19.\n",
            " 15.6  3.2 15.3 10.1  7.3 12.9 14.4 13.3 14.9 18.  11.9 11.9  8.  12.2\n",
            " 17.1 15.   8.4 14.5  7.6 11.7 11.5 27.  20.2 11.7 11.8 12.6 10.5 12.2\n",
            "  8.7 26.2 17.6 22.6 10.3 17.3 15.9  6.7 10.8  9.9  5.9 19.6 17.3  7.6\n",
            "  9.7 12.8 25.5 13.4]\n"
          ]
        }
      ]
    },
    {
      "cell_type": "code",
      "source": [
        "x_train,x_test,y_train,y_test=train_test_split(x,y,test_size=0.3)"
      ],
      "metadata": {
        "id": "hbCbD221sW9R"
      },
      "execution_count": 32,
      "outputs": []
    },
    {
      "cell_type": "code",
      "source": [
        "from sklearn.linear_model import LinearRegression\n",
        "m1=LinearRegression()\n",
        "m1.fit(x_train,y_train)\n",
        "y_pred=m1.predict(x_test)\n",
        "print(y_pred)"
      ],
      "metadata": {
        "colab": {
          "base_uri": "https://localhost:8080/"
        },
        "id": "D16_7gHcsW_9",
        "outputId": "05c19045-a982-4384-d6bd-7e7e490ce919"
      },
      "execution_count": 33,
      "outputs": [
        {
          "output_type": "stream",
          "name": "stdout",
          "text": [
            "[16.02320967 20.75091247  8.23172465 23.18015434 21.78136742 14.9919009\n",
            "  9.7625097  14.85711037 20.79821513  9.84494555 21.73920746 19.0929665\n",
            "  3.39131264 10.40481891 16.74487369 12.02961464 16.6324654  15.15664468\n",
            " 13.19849987 19.50666943 10.53938979 21.13701039 22.89762992 14.10435257\n",
            " 11.54050129  9.60871738 15.10648135 20.65780667 15.75777601 19.86678561\n",
            "  9.55265587  8.23397501  7.5933618  18.08215768  5.63836332 19.74820547\n",
            " 10.94324771 15.40861065 16.84528541  9.88649272 24.12631853 15.31719759\n",
            " 11.88758325  6.44920429  4.33335801  5.92475364  9.96724313 17.2455181\n",
            "  8.88784596 17.15231878  6.32044801 12.6465427  11.64034676 15.31066458\n",
            " 13.30678097 23.65010703 16.34935573 10.54018983 21.17221326 15.44477027]\n"
          ]
        }
      ]
    },
    {
      "cell_type": "code",
      "source": [
        "m1.predict([[1.0, 230.1,  37.8 , 69.2]])"
      ],
      "metadata": {
        "colab": {
          "base_uri": "https://localhost:8080/"
        },
        "id": "IV5g__DZsXCq",
        "outputId": "50f23a75-93a3-4247-ef43-cfc878a0c308"
      },
      "execution_count": 34,
      "outputs": [
        {
          "output_type": "execute_result",
          "data": {
            "text/plain": [
              "array([20.53832315])"
            ]
          },
          "metadata": {},
          "execution_count": 34
        }
      ]
    },
    {
      "cell_type": "code",
      "source": [
        "from sklearn.metrics import r2_score\n",
        "r2_score(y_test,y_pred)\n"
      ],
      "metadata": {
        "colab": {
          "base_uri": "https://localhost:8080/"
        },
        "id": "cpBCD-Q_sXE6",
        "outputId": "51949ca6-455b-4073-efed-45404e97b865"
      },
      "execution_count": 35,
      "outputs": [
        {
          "output_type": "execute_result",
          "data": {
            "text/plain": [
              "0.9131999598676157"
            ]
          },
          "metadata": {},
          "execution_count": 35
        }
      ]
    },
    {
      "cell_type": "code",
      "source": [
        "plt.figure(figsize=(15,10))\n",
        "plt.scatter(y_test,y_pred)\n",
        "plt.title(\"Actual vs Predicted\")\n",
        "plt.xlabel(\"Actual\")\n",
        "plt.ylabel(\"predicted\")"
      ],
      "metadata": {
        "colab": {
          "base_uri": "https://localhost:8080/",
          "height": 638
        },
        "id": "rwLe2yGNsXIf",
        "outputId": "38cc9bdd-d33b-43a3-8854-c0d10fc18e79"
      },
      "execution_count": 36,
      "outputs": [
        {
          "output_type": "execute_result",
          "data": {
            "text/plain": [
              "Text(0, 0.5, 'predicted')"
            ]
          },
          "metadata": {},
          "execution_count": 36
        },
        {
          "output_type": "display_data",
          "data": {
            "text/plain": [
              "<Figure size 1080x720 with 1 Axes>"
            ],
            "image/png": "[encoded data removed]"
          },
          "metadata": {
            "needs_background": "light"
          }
        }
      ]
    },
    {
      "cell_type": "code",
      "source": [
        ""
      ],
      "metadata": {
        "id": "IySH0SU3mxcT"
      },
      "execution_count": null,
      "outputs": []
    },
    {
      "cell_type": "code",
      "source": [
        ""
      ],
      "metadata": {
        "id": "kK52qFinmxep"
      },
      "execution_count": null,
      "outputs": []
    },
    {
      "cell_type": "code",
      "source": [
        ""
      ],
      "metadata": {
        "id": "0oNmXjG8mxh_"
      },
      "execution_count": null,
      "outputs": []
    }
  ]
}